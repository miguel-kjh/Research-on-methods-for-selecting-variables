{
 "metadata": {
  "language_info": {
   "codemirror_mode": {
    "name": "ipython",
    "version": 3
   },
   "file_extension": ".py",
   "mimetype": "text/x-python",
   "name": "python",
   "nbconvert_exporter": "python",
   "pygments_lexer": "ipython3",
   "version": "3.8.5-final"
  },
  "orig_nbformat": 2,
  "kernelspec": {
   "name": "Python 3.8.5 64-bit",
   "display_name": "Python 3.8.5 64-bit",
   "metadata": {
    "interpreter": {
     "hash": "31f2aee4e71d21fbe5cf8b01ff0e069b9275f58929596ceb00d14d90e3e16cd6"
    }
   }
  }
 },
 "nbformat": 4,
 "nbformat_minor": 2,
 "cells": [
  {
   "source": [
    "# Ejemplo selección variables"
   ],
   "cell_type": "markdown",
   "metadata": {}
  },
  {
   "cell_type": "code",
   "execution_count": 29,
   "metadata": {},
   "outputs": [],
   "source": [
    "import pandas as pd\n",
    "from sklearn.feature_selection import mutual_info_regression,mutual_info_classif\n",
    "FILE = 'data'\n",
    "import numpy as np\n",
    "np.random.seed(1)"
   ]
  },
  {
   "cell_type": "code",
   "execution_count": 30,
   "metadata": {},
   "outputs": [
    {
     "output_type": "stream",
     "name": "stdout",
     "text": [
      "<class 'pandas.core.frame.DataFrame'>\nRangeIndex: 4898 entries, 0 to 4897\nData columns (total 12 columns):\n #   Column                Non-Null Count  Dtype  \n---  ------                --------------  -----  \n 0   fixed acidity         4898 non-null   float64\n 1   volatile acidity      4898 non-null   float64\n 2   citric acid           4898 non-null   float64\n 3   residual sugar        4898 non-null   float64\n 4   chlorides             4898 non-null   float64\n 5   free sulfur dioxide   4898 non-null   float64\n 6   total sulfur dioxide  4898 non-null   float64\n 7   density               4898 non-null   float64\n 8   pH                    4898 non-null   float64\n 9   sulphates             4898 non-null   float64\n 10  alcohol               4898 non-null   float64\n 11  quality               4898 non-null   int64  \ndtypes: float64(11), int64(1)\nmemory usage: 459.3 KB\n"
     ]
    }
   ],
   "source": [
    "originalData = pd.read_csv('%s/winequality-white.csv' %FILE, sep=\";\")\n",
    "originalData.info()"
   ]
  },
  {
   "source": [
    "## Selección por correlación"
   ],
   "cell_type": "markdown",
   "metadata": {}
  },
  {
   "cell_type": "code",
   "execution_count": 31,
   "metadata": {},
   "outputs": [
    {
     "output_type": "execute_result",
     "data": {
      "text/plain": [
       "                      fixed acidity  volatile acidity  citric acid  \\\n",
       "fixed acidity              1.000000         -0.022697     0.289181   \n",
       "volatile acidity          -0.022697          1.000000    -0.149472   \n",
       "citric acid                0.289181         -0.149472     1.000000   \n",
       "residual sugar             0.089021          0.064286     0.094212   \n",
       "chlorides                  0.023086          0.070512     0.114364   \n",
       "free sulfur dioxide       -0.049396         -0.097012     0.094077   \n",
       "total sulfur dioxide       0.091070          0.089261     0.121131   \n",
       "density                    0.265331          0.027114     0.149503   \n",
       "pH                        -0.425858         -0.031915    -0.163748   \n",
       "sulphates                 -0.017143         -0.035728     0.062331   \n",
       "alcohol                   -0.120881          0.067718    -0.075729   \n",
       "quality                   -0.113663         -0.194723    -0.009209   \n",
       "\n",
       "                      residual sugar  chlorides  free sulfur dioxide  \\\n",
       "fixed acidity               0.089021   0.023086            -0.049396   \n",
       "volatile acidity            0.064286   0.070512            -0.097012   \n",
       "citric acid                 0.094212   0.114364             0.094077   \n",
       "residual sugar              1.000000   0.088685             0.299098   \n",
       "chlorides                   0.088685   1.000000             0.101392   \n",
       "free sulfur dioxide         0.299098   0.101392             1.000000   \n",
       "total sulfur dioxide        0.401439   0.198910             0.615501   \n",
       "density                     0.838966   0.257211             0.294210   \n",
       "pH                         -0.194133  -0.090439            -0.000618   \n",
       "sulphates                  -0.026664   0.016763             0.059217   \n",
       "alcohol                    -0.450631  -0.360189            -0.250104   \n",
       "quality                    -0.097577  -0.209934             0.008158   \n",
       "\n",
       "                      total sulfur dioxide   density        pH  sulphates  \\\n",
       "fixed acidity                     0.091070  0.265331 -0.425858  -0.017143   \n",
       "volatile acidity                  0.089261  0.027114 -0.031915  -0.035728   \n",
       "citric acid                       0.121131  0.149503 -0.163748   0.062331   \n",
       "residual sugar                    0.401439  0.838966 -0.194133  -0.026664   \n",
       "chlorides                         0.198910  0.257211 -0.090439   0.016763   \n",
       "free sulfur dioxide               0.615501  0.294210 -0.000618   0.059217   \n",
       "total sulfur dioxide              1.000000  0.529881  0.002321   0.134562   \n",
       "density                           0.529881  1.000000 -0.093591   0.074493   \n",
       "pH                                0.002321 -0.093591  1.000000   0.155951   \n",
       "sulphates                         0.134562  0.074493  0.155951   1.000000   \n",
       "alcohol                          -0.448892 -0.780138  0.121432  -0.017433   \n",
       "quality                          -0.174737 -0.307123  0.099427   0.053678   \n",
       "\n",
       "                       alcohol   quality  \n",
       "fixed acidity        -0.120881 -0.113663  \n",
       "volatile acidity      0.067718 -0.194723  \n",
       "citric acid          -0.075729 -0.009209  \n",
       "residual sugar       -0.450631 -0.097577  \n",
       "chlorides            -0.360189 -0.209934  \n",
       "free sulfur dioxide  -0.250104  0.008158  \n",
       "total sulfur dioxide -0.448892 -0.174737  \n",
       "density              -0.780138 -0.307123  \n",
       "pH                    0.121432  0.099427  \n",
       "sulphates            -0.017433  0.053678  \n",
       "alcohol               1.000000  0.435575  \n",
       "quality               0.435575  1.000000  "
      ],
      "text/html": "<div>\n<style scoped>\n    .dataframe tbody tr th:only-of-type {\n        vertical-align: middle;\n    }\n\n    .dataframe tbody tr th {\n        vertical-align: top;\n    }\n\n    .dataframe thead th {\n        text-align: right;\n    }\n</style>\n<table border=\"1\" class=\"dataframe\">\n  <thead>\n    <tr style=\"text-align: right;\">\n      <th></th>\n      <th>fixed acidity</th>\n      <th>volatile acidity</th>\n      <th>citric acid</th>\n      <th>residual sugar</th>\n      <th>chlorides</th>\n      <th>free sulfur dioxide</th>\n      <th>total sulfur dioxide</th>\n      <th>density</th>\n      <th>pH</th>\n      <th>sulphates</th>\n      <th>alcohol</th>\n      <th>quality</th>\n    </tr>\n  </thead>\n  <tbody>\n    <tr>\n      <th>fixed acidity</th>\n      <td>1.000000</td>\n      <td>-0.022697</td>\n      <td>0.289181</td>\n      <td>0.089021</td>\n      <td>0.023086</td>\n      <td>-0.049396</td>\n      <td>0.091070</td>\n      <td>0.265331</td>\n      <td>-0.425858</td>\n      <td>-0.017143</td>\n      <td>-0.120881</td>\n      <td>-0.113663</td>\n    </tr>\n    <tr>\n      <th>volatile acidity</th>\n      <td>-0.022697</td>\n      <td>1.000000</td>\n      <td>-0.149472</td>\n      <td>0.064286</td>\n      <td>0.070512</td>\n      <td>-0.097012</td>\n      <td>0.089261</td>\n      <td>0.027114</td>\n      <td>-0.031915</td>\n      <td>-0.035728</td>\n      <td>0.067718</td>\n      <td>-0.194723</td>\n    </tr>\n    <tr>\n      <th>citric acid</th>\n      <td>0.289181</td>\n      <td>-0.149472</td>\n      <td>1.000000</td>\n      <td>0.094212</td>\n      <td>0.114364</td>\n      <td>0.094077</td>\n      <td>0.121131</td>\n      <td>0.149503</td>\n      <td>-0.163748</td>\n      <td>0.062331</td>\n      <td>-0.075729</td>\n      <td>-0.009209</td>\n    </tr>\n    <tr>\n      <th>residual sugar</th>\n      <td>0.089021</td>\n      <td>0.064286</td>\n      <td>0.094212</td>\n      <td>1.000000</td>\n      <td>0.088685</td>\n      <td>0.299098</td>\n      <td>0.401439</td>\n      <td>0.838966</td>\n      <td>-0.194133</td>\n      <td>-0.026664</td>\n      <td>-0.450631</td>\n      <td>-0.097577</td>\n    </tr>\n    <tr>\n      <th>chlorides</th>\n      <td>0.023086</td>\n      <td>0.070512</td>\n      <td>0.114364</td>\n      <td>0.088685</td>\n      <td>1.000000</td>\n      <td>0.101392</td>\n      <td>0.198910</td>\n      <td>0.257211</td>\n      <td>-0.090439</td>\n      <td>0.016763</td>\n      <td>-0.360189</td>\n      <td>-0.209934</td>\n    </tr>\n    <tr>\n      <th>free sulfur dioxide</th>\n      <td>-0.049396</td>\n      <td>-0.097012</td>\n      <td>0.094077</td>\n      <td>0.299098</td>\n      <td>0.101392</td>\n      <td>1.000000</td>\n      <td>0.615501</td>\n      <td>0.294210</td>\n      <td>-0.000618</td>\n      <td>0.059217</td>\n      <td>-0.250104</td>\n      <td>0.008158</td>\n    </tr>\n    <tr>\n      <th>total sulfur dioxide</th>\n      <td>0.091070</td>\n      <td>0.089261</td>\n      <td>0.121131</td>\n      <td>0.401439</td>\n      <td>0.198910</td>\n      <td>0.615501</td>\n      <td>1.000000</td>\n      <td>0.529881</td>\n      <td>0.002321</td>\n      <td>0.134562</td>\n      <td>-0.448892</td>\n      <td>-0.174737</td>\n    </tr>\n    <tr>\n      <th>density</th>\n      <td>0.265331</td>\n      <td>0.027114</td>\n      <td>0.149503</td>\n      <td>0.838966</td>\n      <td>0.257211</td>\n      <td>0.294210</td>\n      <td>0.529881</td>\n      <td>1.000000</td>\n      <td>-0.093591</td>\n      <td>0.074493</td>\n      <td>-0.780138</td>\n      <td>-0.307123</td>\n    </tr>\n    <tr>\n      <th>pH</th>\n      <td>-0.425858</td>\n      <td>-0.031915</td>\n      <td>-0.163748</td>\n      <td>-0.194133</td>\n      <td>-0.090439</td>\n      <td>-0.000618</td>\n      <td>0.002321</td>\n      <td>-0.093591</td>\n      <td>1.000000</td>\n      <td>0.155951</td>\n      <td>0.121432</td>\n      <td>0.099427</td>\n    </tr>\n    <tr>\n      <th>sulphates</th>\n      <td>-0.017143</td>\n      <td>-0.035728</td>\n      <td>0.062331</td>\n      <td>-0.026664</td>\n      <td>0.016763</td>\n      <td>0.059217</td>\n      <td>0.134562</td>\n      <td>0.074493</td>\n      <td>0.155951</td>\n      <td>1.000000</td>\n      <td>-0.017433</td>\n      <td>0.053678</td>\n    </tr>\n    <tr>\n      <th>alcohol</th>\n      <td>-0.120881</td>\n      <td>0.067718</td>\n      <td>-0.075729</td>\n      <td>-0.450631</td>\n      <td>-0.360189</td>\n      <td>-0.250104</td>\n      <td>-0.448892</td>\n      <td>-0.780138</td>\n      <td>0.121432</td>\n      <td>-0.017433</td>\n      <td>1.000000</td>\n      <td>0.435575</td>\n    </tr>\n    <tr>\n      <th>quality</th>\n      <td>-0.113663</td>\n      <td>-0.194723</td>\n      <td>-0.009209</td>\n      <td>-0.097577</td>\n      <td>-0.209934</td>\n      <td>0.008158</td>\n      <td>-0.174737</td>\n      <td>-0.307123</td>\n      <td>0.099427</td>\n      <td>0.053678</td>\n      <td>0.435575</td>\n      <td>1.000000</td>\n    </tr>\n  </tbody>\n</table>\n</div>"
     },
     "metadata": {},
     "execution_count": 31
    }
   ],
   "source": [
    "cor = originalData.corr()\n",
    "cor"
   ]
  },
  {
   "cell_type": "code",
   "execution_count": 32,
   "metadata": {},
   "outputs": [
    {
     "output_type": "execute_result",
     "data": {
      "text/plain": [
       "fixed acidity          -0.113663\n",
       "volatile acidity       -0.194723\n",
       "citric acid            -0.009209\n",
       "residual sugar         -0.097577\n",
       "chlorides              -0.209934\n",
       "free sulfur dioxide     0.008158\n",
       "total sulfur dioxide   -0.174737\n",
       "density                -0.307123\n",
       "pH                      0.099427\n",
       "sulphates               0.053678\n",
       "alcohol                 0.435575\n",
       "quality                 1.000000\n",
       "Name: quality, dtype: float64"
      ]
     },
     "metadata": {},
     "execution_count": 32
    }
   ],
   "source": [
    "relev = cor['quality']\n",
    "relev"
   ]
  },
  {
   "cell_type": "code",
   "execution_count": 33,
   "metadata": {},
   "outputs": [
    {
     "output_type": "execute_result",
     "data": {
      "text/plain": [
       "quality                 1.000000\n",
       "alcohol                 0.435575\n",
       "density                 0.307123\n",
       "chlorides               0.209934\n",
       "volatile acidity        0.194723\n",
       "total sulfur dioxide    0.174737\n",
       "fixed acidity           0.113663\n",
       "pH                      0.099427\n",
       "residual sugar          0.097577\n",
       "sulphates               0.053678\n",
       "citric acid             0.009209\n",
       "free sulfur dioxide     0.008158\n",
       "Name: quality, dtype: float64"
      ]
     },
     "metadata": {},
     "execution_count": 33
    }
   ],
   "source": [
    "relev = abs(relev).sort_values(ascending=False)\n",
    "relev"
   ]
  },
  {
   "source": [
    "## Selección de variables por información muta"
   ],
   "cell_type": "markdown",
   "metadata": {}
  },
  {
   "cell_type": "code",
   "execution_count": 34,
   "metadata": {},
   "outputs": [
    {
     "output_type": "execute_result",
     "data": {
      "text/plain": [
       "fixed acidity           0.015402\n",
       "volatile acidity        0.038416\n",
       "citric acid             0.066252\n",
       "residual sugar          0.080916\n",
       "chlorides               0.058763\n",
       "free sulfur dioxide     0.083048\n",
       "total sulfur dioxide    0.087913\n",
       "density                 0.183096\n",
       "pH                      0.027708\n",
       "sulphates               0.036442\n",
       "alcohol                 0.160385\n",
       "dtype: float64"
      ]
     },
     "metadata": {},
     "execution_count": 34
    }
   ],
   "source": [
    "info_mutua = mutual_info_regression(originalData.iloc[:,:-1], originalData.iloc[:,-1])\n",
    "info_mutua = pd.Series(info_mutua, index=originalData.columns[:-1])\n",
    "info_mutua"
   ]
  },
  {
   "cell_type": "code",
   "execution_count": 35,
   "metadata": {},
   "outputs": [
    {
     "output_type": "execute_result",
     "data": {
      "text/plain": [
       "density                 0.183096\n",
       "alcohol                 0.160385\n",
       "total sulfur dioxide    0.087913\n",
       "free sulfur dioxide     0.083048\n",
       "residual sugar          0.080916\n",
       "citric acid             0.066252\n",
       "chlorides               0.058763\n",
       "volatile acidity        0.038416\n",
       "sulphates               0.036442\n",
       "pH                      0.027708\n",
       "fixed acidity           0.015402\n",
       "dtype: float64"
      ]
     },
     "metadata": {},
     "execution_count": 35
    }
   ],
   "source": [
    "relev = info_mutua.abs().sort_values(ascending=False)\n",
    "relev"
   ]
  },
  {
   "cell_type": "code",
   "execution_count": 36,
   "metadata": {},
   "outputs": [
    {
     "output_type": "execute_result",
     "data": {
      "text/plain": [
       "      fixed acidity  volatile acidity  citric acid  residual sugar  chlorides  \\\n",
       "0               7.0              0.27         0.36            20.7      0.045   \n",
       "1               6.3              0.30         0.34             1.6      0.049   \n",
       "2               8.1              0.28         0.40             6.9      0.050   \n",
       "3               7.2              0.23         0.32             8.5      0.058   \n",
       "4               7.2              0.23         0.32             8.5      0.058   \n",
       "...             ...               ...          ...             ...        ...   \n",
       "4893            6.2              0.21         0.29             1.6      0.039   \n",
       "4894            6.6              0.32         0.36             8.0      0.047   \n",
       "4895            6.5              0.24         0.19             1.2      0.041   \n",
       "4896            5.5              0.29         0.30             1.1      0.022   \n",
       "4897            6.0              0.21         0.38             0.8      0.020   \n",
       "\n",
       "      free sulfur dioxide  total sulfur dioxide  density    pH  sulphates  \\\n",
       "0                    45.0                 170.0  1.00100  3.00       0.45   \n",
       "1                    14.0                 132.0  0.99400  3.30       0.49   \n",
       "2                    30.0                  97.0  0.99510  3.26       0.44   \n",
       "3                    47.0                 186.0  0.99560  3.19       0.40   \n",
       "4                    47.0                 186.0  0.99560  3.19       0.40   \n",
       "...                   ...                   ...      ...   ...        ...   \n",
       "4893                 24.0                  92.0  0.99114  3.27       0.50   \n",
       "4894                 57.0                 168.0  0.99490  3.15       0.46   \n",
       "4895                 30.0                 111.0  0.99254  2.99       0.46   \n",
       "4896                 20.0                 110.0  0.98869  3.34       0.38   \n",
       "4897                 22.0                  98.0  0.98941  3.26       0.32   \n",
       "\n",
       "      alcohol quality  \n",
       "0         8.8       6  \n",
       "1         9.5       6  \n",
       "2        10.1       6  \n",
       "3         9.9       6  \n",
       "4         9.9       6  \n",
       "...       ...     ...  \n",
       "4893     11.2       6  \n",
       "4894      9.6       5  \n",
       "4895      9.4       6  \n",
       "4896     12.8       7  \n",
       "4897     11.8       6  \n",
       "\n",
       "[4898 rows x 12 columns]"
      ],
      "text/html": "<div>\n<style scoped>\n    .dataframe tbody tr th:only-of-type {\n        vertical-align: middle;\n    }\n\n    .dataframe tbody tr th {\n        vertical-align: top;\n    }\n\n    .dataframe thead th {\n        text-align: right;\n    }\n</style>\n<table border=\"1\" class=\"dataframe\">\n  <thead>\n    <tr style=\"text-align: right;\">\n      <th></th>\n      <th>fixed acidity</th>\n      <th>volatile acidity</th>\n      <th>citric acid</th>\n      <th>residual sugar</th>\n      <th>chlorides</th>\n      <th>free sulfur dioxide</th>\n      <th>total sulfur dioxide</th>\n      <th>density</th>\n      <th>pH</th>\n      <th>sulphates</th>\n      <th>alcohol</th>\n      <th>quality</th>\n    </tr>\n  </thead>\n  <tbody>\n    <tr>\n      <th>0</th>\n      <td>7.0</td>\n      <td>0.27</td>\n      <td>0.36</td>\n      <td>20.7</td>\n      <td>0.045</td>\n      <td>45.0</td>\n      <td>170.0</td>\n      <td>1.00100</td>\n      <td>3.00</td>\n      <td>0.45</td>\n      <td>8.8</td>\n      <td>6</td>\n    </tr>\n    <tr>\n      <th>1</th>\n      <td>6.3</td>\n      <td>0.30</td>\n      <td>0.34</td>\n      <td>1.6</td>\n      <td>0.049</td>\n      <td>14.0</td>\n      <td>132.0</td>\n      <td>0.99400</td>\n      <td>3.30</td>\n      <td>0.49</td>\n      <td>9.5</td>\n      <td>6</td>\n    </tr>\n    <tr>\n      <th>2</th>\n      <td>8.1</td>\n      <td>0.28</td>\n      <td>0.40</td>\n      <td>6.9</td>\n      <td>0.050</td>\n      <td>30.0</td>\n      <td>97.0</td>\n      <td>0.99510</td>\n      <td>3.26</td>\n      <td>0.44</td>\n      <td>10.1</td>\n      <td>6</td>\n    </tr>\n    <tr>\n      <th>3</th>\n      <td>7.2</td>\n      <td>0.23</td>\n      <td>0.32</td>\n      <td>8.5</td>\n      <td>0.058</td>\n      <td>47.0</td>\n      <td>186.0</td>\n      <td>0.99560</td>\n      <td>3.19</td>\n      <td>0.40</td>\n      <td>9.9</td>\n      <td>6</td>\n    </tr>\n    <tr>\n      <th>4</th>\n      <td>7.2</td>\n      <td>0.23</td>\n      <td>0.32</td>\n      <td>8.5</td>\n      <td>0.058</td>\n      <td>47.0</td>\n      <td>186.0</td>\n      <td>0.99560</td>\n      <td>3.19</td>\n      <td>0.40</td>\n      <td>9.9</td>\n      <td>6</td>\n    </tr>\n    <tr>\n      <th>...</th>\n      <td>...</td>\n      <td>...</td>\n      <td>...</td>\n      <td>...</td>\n      <td>...</td>\n      <td>...</td>\n      <td>...</td>\n      <td>...</td>\n      <td>...</td>\n      <td>...</td>\n      <td>...</td>\n      <td>...</td>\n    </tr>\n    <tr>\n      <th>4893</th>\n      <td>6.2</td>\n      <td>0.21</td>\n      <td>0.29</td>\n      <td>1.6</td>\n      <td>0.039</td>\n      <td>24.0</td>\n      <td>92.0</td>\n      <td>0.99114</td>\n      <td>3.27</td>\n      <td>0.50</td>\n      <td>11.2</td>\n      <td>6</td>\n    </tr>\n    <tr>\n      <th>4894</th>\n      <td>6.6</td>\n      <td>0.32</td>\n      <td>0.36</td>\n      <td>8.0</td>\n      <td>0.047</td>\n      <td>57.0</td>\n      <td>168.0</td>\n      <td>0.99490</td>\n      <td>3.15</td>\n      <td>0.46</td>\n      <td>9.6</td>\n      <td>5</td>\n    </tr>\n    <tr>\n      <th>4895</th>\n      <td>6.5</td>\n      <td>0.24</td>\n      <td>0.19</td>\n      <td>1.2</td>\n      <td>0.041</td>\n      <td>30.0</td>\n      <td>111.0</td>\n      <td>0.99254</td>\n      <td>2.99</td>\n      <td>0.46</td>\n      <td>9.4</td>\n      <td>6</td>\n    </tr>\n    <tr>\n      <th>4896</th>\n      <td>5.5</td>\n      <td>0.29</td>\n      <td>0.30</td>\n      <td>1.1</td>\n      <td>0.022</td>\n      <td>20.0</td>\n      <td>110.0</td>\n      <td>0.98869</td>\n      <td>3.34</td>\n      <td>0.38</td>\n      <td>12.8</td>\n      <td>7</td>\n    </tr>\n    <tr>\n      <th>4897</th>\n      <td>6.0</td>\n      <td>0.21</td>\n      <td>0.38</td>\n      <td>0.8</td>\n      <td>0.020</td>\n      <td>22.0</td>\n      <td>98.0</td>\n      <td>0.98941</td>\n      <td>3.26</td>\n      <td>0.32</td>\n      <td>11.8</td>\n      <td>6</td>\n    </tr>\n  </tbody>\n</table>\n<p>4898 rows × 12 columns</p>\n</div>"
     },
     "metadata": {},
     "execution_count": 36
    }
   ],
   "source": [
    "tmp_df = originalData.copy()\n",
    "tmp_df['quality'] = originalData['quality'].astype(str)\n",
    "tmp_df"
   ]
  },
  {
   "cell_type": "code",
   "execution_count": 43,
   "metadata": {},
   "outputs": [
    {
     "output_type": "execute_result",
     "data": {
      "text/plain": [
       "0    0.025499\n",
       "1    0.057387\n",
       "dtype: float64"
      ]
     },
     "metadata": {},
     "execution_count": 43
    }
   ],
   "source": [
    "info_mutua = mutual_info_classif(tmp_df.loc[:,['fixed acidity','volatile acidity']], tmp_df.iloc[:,-1])\n",
    "info_mutua = pd.Series(info_mutua)\n",
    "info_mutua"
   ]
  },
  {
   "cell_type": "code",
   "execution_count": 10,
   "metadata": {},
   "outputs": [
    {
     "output_type": "execute_result",
     "data": {
      "text/plain": [
       "density                 0.176962\n",
       "alcohol                 0.152652\n",
       "total sulfur dioxide    0.097299\n",
       "residual sugar          0.084319\n",
       "chlorides               0.063780\n",
       "free sulfur dioxide     0.057918\n",
       "citric acid             0.054537\n",
       "volatile acidity        0.049261\n",
       "pH                      0.036084\n",
       "sulphates               0.028013\n",
       "fixed acidity           0.025785\n",
       "dtype: float64"
      ]
     },
     "metadata": {},
     "execution_count": 10
    }
   ],
   "source": [
    "relev = info_mutua.abs().sort_values(ascending=False)\n",
    "relev"
   ]
  }
 ]
}