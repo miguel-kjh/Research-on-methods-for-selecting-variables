{
 "metadata": {
  "language_info": {
   "codemirror_mode": {
    "name": "ipython",
    "version": 3
   },
   "file_extension": ".py",
   "mimetype": "text/x-python",
   "name": "python",
   "nbconvert_exporter": "python",
   "pygments_lexer": "ipython3",
   "version": "3.8.5-final"
  },
  "orig_nbformat": 2,
  "kernelspec": {
   "name": "Python 3.8.5 64-bit",
   "display_name": "Python 3.8.5 64-bit",
   "metadata": {
    "interpreter": {
     "hash": "31f2aee4e71d21fbe5cf8b01ff0e069b9275f58929596ceb00d14d90e3e16cd6"
    }
   }
  }
 },
 "nbformat": 4,
 "nbformat_minor": 2,
 "cells": [
  {
   "source": [
    "# Lectura de datos"
   ],
   "cell_type": "markdown",
   "metadata": {}
  },
  {
   "cell_type": "code",
   "execution_count": 8,
   "metadata": {},
   "outputs": [],
   "source": [
    "import pandas as pd\n",
    "from sklearn.feature_selection import mutual_info_regression,mutual_info_classif\n",
    "import numpy as np\n",
    "import json\n",
    "FILE = 'data'"
   ]
  },
  {
   "source": [
    "Leamos los datos para la métrica de información mutua, tratando la variable clase como una variable numérica."
   ],
   "cell_type": "markdown",
   "metadata": {}
  },
  {
   "cell_type": "code",
   "execution_count": 9,
   "metadata": {},
   "outputs": [
    {
     "output_type": "stream",
     "name": "stdout",
     "text": [
      "<class 'pandas.core.frame.DataFrame'>\nRangeIndex: 4898 entries, 0 to 4897\nData columns (total 12 columns):\n #   Column                Non-Null Count  Dtype  \n---  ------                --------------  -----  \n 0   fixed acidity         4898 non-null   float64\n 1   volatile acidity      4898 non-null   float64\n 2   citric acid           4898 non-null   float64\n 3   residual sugar        4898 non-null   float64\n 4   chlorides             4898 non-null   float64\n 5   free sulfur dioxide   4898 non-null   float64\n 6   total sulfur dioxide  4898 non-null   float64\n 7   density               4898 non-null   float64\n 8   pH                    4898 non-null   float64\n 9   sulphates             4898 non-null   float64\n 10  alcohol               4898 non-null   float64\n 11  quality               4898 non-null   int64  \ndtypes: float64(11), int64(1)\nmemory usage: 459.3 KB\n"
     ]
    }
   ],
   "source": [
    "df_numeric_class = pd.read_csv('%s/winequality-white.csv' %FILE, sep=\";\")\n",
    "df_numeric_class.info()"
   ]
  },
  {
   "source": [
    "En el caso de la métrica CFS, transformamos los datos para convertir al atributo clase en uno nominal"
   ],
   "cell_type": "markdown",
   "metadata": {}
  },
  {
   "cell_type": "code",
   "execution_count": 17,
   "metadata": {},
   "outputs": [
    {
     "output_type": "stream",
     "name": "stdout",
     "text": [
      "<class 'pandas.core.frame.DataFrame'>\nRangeIndex: 4898 entries, 0 to 4897\nData columns (total 12 columns):\n #   Column                Non-Null Count  Dtype  \n---  ------                --------------  -----  \n 0   fixed acidity         4898 non-null   float64\n 1   volatile acidity      4898 non-null   float64\n 2   citric acid           4898 non-null   float64\n 3   residual sugar        4898 non-null   float64\n 4   chlorides             4898 non-null   float64\n 5   free sulfur dioxide   4898 non-null   float64\n 6   total sulfur dioxide  4898 non-null   float64\n 7   density               4898 non-null   float64\n 8   pH                    4898 non-null   float64\n 9   sulphates             4898 non-null   float64\n 10  alcohol               4898 non-null   float64\n 11  quality               4898 non-null   object \ndtypes: float64(11), object(1)\nmemory usage: 459.3+ KB\n"
     ]
    }
   ],
   "source": [
    "df_nominal_class = df_numeric_class.copy()\n",
    "df_nominal_class['quality'] = df_numeric_class['quality'].astype(str)\n",
    "df_nominal_class.info()"
   ]
  },
  {
   "source": [
    "La clase nodo almacenará los estados de las combinaciones posibles  junto a su valor de correlación"
   ],
   "cell_type": "markdown",
   "metadata": {}
  },
  {
   "cell_type": "code",
   "execution_count": 11,
   "metadata": {},
   "outputs": [],
   "source": [
    "class Node:\n",
    "    def __init__(self, columns: list, value: float):\n",
    "        self.columns = columns\n",
    "        self.value   = value\n",
    "    \n",
    "    def __eq__(self, other):\n",
    "        return self.value == other.value\n",
    "\n",
    "    def __ne__(self, other):\n",
    "        return self.value != other.value\n",
    "\n",
    "    def __lt__(self, other):\n",
    "        return self.value < other.value\n",
    "\n",
    "    def __le__(self, other):\n",
    "        return self.value <= other.value\n",
    "\n",
    "    def __gt__(self, other):\n",
    "        return self.value > other.value\n",
    "\n",
    "    def __ge__(self, other):\n",
    "        return self.value >= other.value\n",
    "    \n",
    "    def __repr__(self):\n",
    "        return \"%s = %s\" % (self.columns, self.value)"
   ]
  },
  {
   "source": [
    "El método *get_children* se encarga de a partir de un estado crear los N estados siguientes siguiendo esa rama del árbol de búsqueda, eligiendo las combinaciones faltantes. Se escoge como valor que guía la búsqueda la suma de todas las correlaciones."
   ],
   "cell_type": "markdown",
   "metadata": {}
  },
  {
   "cell_type": "code",
   "execution_count": 12,
   "metadata": {},
   "outputs": [],
   "source": [
    "def get_children(father: Node, columns: list, metric: classmethod, df: pd.DataFrame) -> list:\n",
    "    if not father:\n",
    "        return [\n",
    "            Node([column], metric(df.loc[:,[column]], df.iloc[:,-1])[0]) for column in columns\n",
    "        ]\n",
    "\n",
    "    children = []\n",
    "    for column in columns:\n",
    "        if column not in father.columns:\n",
    "            copyFatherColumns = father.columns.copy()\n",
    "            copyFatherColumns.append(column)\n",
    "            children.append(\n",
    "                Node(copyFatherColumns,  sum(abs(metric(df.loc[:,copyFatherColumns], df.iloc[:,-1]))))\n",
    "            )\n",
    "\n",
    "    return children"
   ]
  },
  {
   "source": [
    "*select_from_variables* se encarga de la exploración del árbol de estados mediante SFS y la métrica correspondiente."
   ],
   "cell_type": "markdown",
   "metadata": {}
  },
  {
   "cell_type": "code",
   "execution_count": 13,
   "metadata": {},
   "outputs": [],
   "source": [
    "def select_from_variables(df: pd.DataFrame, metric: classmethod, tree_deep: int = 4) -> pd.DataFrame:\n",
    "    columns = list(df.columns[:-1])\n",
    "    if len(columns) <= tree_deep:\n",
    "        raise RuntimeError(\"the deep of the search tree is higher than the number of columns\")\n",
    "    \"\"\"selection = []\n",
    "    \n",
    "    for _ in range(tree_deep):\n",
    "        correlation_values = metric(df.loc[:,columns], df.iloc[:,-1])\n",
    "        print(\"#############\")\n",
    "        print(sorted(correlation_values))\n",
    "        column_select = columns[np.argmax(abs(correlation_values), axis=0)]\n",
    "        columns.remove(column_select)\n",
    "        selection.append(column_select)\"\"\"\n",
    "\n",
    "    selection = None\n",
    "    for _ in range(tree_deep):\n",
    "        selection = max(get_children(selection, columns, mutual_info_regression, df))\n",
    "\n",
    "    return selection\n",
    "     "
   ]
  },
  {
   "source": [
    "Para comparar entre las métricas se varia el número de variables seleccionadas de 2 en 2 hasta 8."
   ],
   "cell_type": "markdown",
   "metadata": {}
  },
  {
   "source": [
    "## Busqueda mediante regresión mutua"
   ],
   "cell_type": "markdown",
   "metadata": {}
  },
  {
   "cell_type": "code",
   "execution_count": 14,
   "metadata": {},
   "outputs": [],
   "source": [
    "reportMIFS = {} \n",
    "for deep in range(2,10,2):\n",
    "    reportMIFS['Tree Deep %s' %deep] = select_from_variables(df_numeric_class, mutual_info_regression, tree_deep=deep)"
   ]
  },
  {
   "source": [
    "## Busqueda mediante clasificación mutua"
   ],
   "cell_type": "markdown",
   "metadata": {}
  },
  {
   "cell_type": "code",
   "execution_count": 15,
   "metadata": {},
   "outputs": [],
   "source": [
    "reportCFS = {} \n",
    "for deep in range(2,10,2):\n",
    "    reportCFS['Tree Deep %s' %deep] = select_from_variables(df_nominal_class, mutual_info_classif, tree_deep=deep)"
   ]
  },
  {
   "source": [
    "# Conclusiones"
   ],
   "cell_type": "markdown",
   "metadata": {}
  },
  {
   "cell_type": "code",
   "execution_count": 16,
   "metadata": {},
   "outputs": [
    {
     "output_type": "stream",
     "name": "stdout",
     "text": [
      "############# Tree Deep 2 #############\nMIFS metric:  ['alcohol', 'density']\nCFS metric:  ['alcohol', 'density']\n\n\n############# Tree Deep 4 #############\nMIFS metric:  ['alcohol', 'density', 'residual sugar', 'total sulfur dioxide']\nCFS metric:  ['alcohol', 'density', 'residual sugar', 'total sulfur dioxide']\n\n\n############# Tree Deep 6 #############\nMIFS metric:  ['alcohol', 'chlorides', 'density', 'residual sugar', 'total sulfur dioxide', 'volatile acidity']\nCFS metric:  ['alcohol', 'chlorides', 'density', 'free sulfur dioxide', 'residual sugar', 'total sulfur dioxide']\n\n\n############# Tree Deep 8 #############\nMIFS metric:  ['alcohol', 'chlorides', 'density', 'free sulfur dioxide', 'pH', 'residual sugar', 'total sulfur dioxide', 'volatile acidity']\nCFS metric:  ['alcohol', 'citric acid', 'density', 'free sulfur dioxide', 'residual sugar', 'sulphates', 'total sulfur dioxide', 'volatile acidity']\n\n\n"
     ]
    }
   ],
   "source": [
    "for key, value in reportMIFS.items():\n",
    "    print(\"#############\",key,\"#############\")\n",
    "    print(\"MIFS metric: \", sorted(value.columns))\n",
    "print(\"CFS metric: \", sorted(reportCFS[key].columns))\n",
    "    print(\"\\n\")"
   ]
  },
  {
   "source": [
    "En suma, se puede apreciar que para un número pequeño de atributos las dos métricas bajo un mismo método escogen los mismo atributos que son los que mayor correlación tienen con la variable clase, sin embargo cuando aumentamos el número de los mismo observamos que escogen atributos distintos. Mediante la métrica del MIFS se esconge las columnas de **ph** o **chlorides**, en cambio para la CFS se prefiere escoger las columnas de **citric acid** o **sulphates**. Solo faltaría probar los diferentes conjuntos en un modelo para comparar su calidad con respecto al problema."
   ],
   "cell_type": "markdown",
   "metadata": {}
  }
 ]
}