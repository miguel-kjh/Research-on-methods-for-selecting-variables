{
 "metadata": {
  "language_info": {
   "codemirror_mode": {
    "name": "ipython",
    "version": 3
   },
   "file_extension": ".py",
   "mimetype": "text/x-python",
   "name": "python",
   "nbconvert_exporter": "python",
   "pygments_lexer": "ipython3",
   "version": "3.8.5-final"
  },
  "orig_nbformat": 2,
  "kernelspec": {
   "name": "Python 3.8.5 64-bit",
   "display_name": "Python 3.8.5 64-bit",
   "metadata": {
    "interpreter": {
     "hash": "31f2aee4e71d21fbe5cf8b01ff0e069b9275f58929596ceb00d14d90e3e16cd6"
    }
   }
  }
 },
 "nbformat": 4,
 "nbformat_minor": 2,
 "cells": [
  {
   "source": [
    "# Lectura de datos"
   ],
   "cell_type": "markdown",
   "metadata": {}
  },
  {
   "cell_type": "code",
   "execution_count": 61,
   "metadata": {},
   "outputs": [],
   "source": [
    "import pandas as pd\n",
    "from sklearn.feature_selection import mutual_info_regression,mutual_info_classif\n",
    "import numpy as np\n",
    "import json\n",
    "FILE = 'data'"
   ]
  },
  {
   "source": [
    "Leamos los datos para la métrica de información mutua, tratando la variable clase como una variable numérica."
   ],
   "cell_type": "markdown",
   "metadata": {}
  },
  {
   "cell_type": "code",
   "execution_count": 62,
   "metadata": {},
   "outputs": [
    {
     "output_type": "stream",
     "name": "stdout",
     "text": [
      "<class 'pandas.core.frame.DataFrame'>\nRangeIndex: 4898 entries, 0 to 4897\nData columns (total 12 columns):\n #   Column                Non-Null Count  Dtype  \n---  ------                --------------  -----  \n 0   fixed acidity         4898 non-null   float64\n 1   volatile acidity      4898 non-null   float64\n 2   citric acid           4898 non-null   float64\n 3   residual sugar        4898 non-null   float64\n 4   chlorides             4898 non-null   float64\n 5   free sulfur dioxide   4898 non-null   float64\n 6   total sulfur dioxide  4898 non-null   float64\n 7   density               4898 non-null   float64\n 8   pH                    4898 non-null   float64\n 9   sulphates             4898 non-null   float64\n 10  alcohol               4898 non-null   float64\n 11  quality               4898 non-null   int64  \ndtypes: float64(11), int64(1)\nmemory usage: 459.3 KB\n"
     ]
    }
   ],
   "source": [
    "df_numeric_class = pd.read_csv('%s/winequality-white.csv' %FILE, sep=\";\")\n",
    "df_numeric_class.info()"
   ]
  },
  {
   "cell_type": "code",
   "execution_count": 63,
   "metadata": {},
   "outputs": [
    {
     "output_type": "stream",
     "name": "stdout",
     "text": [
      "0.4355747154613688\n"
     ]
    }
   ],
   "source": [
    "def metric_CFS(columns, df, class_attr  = 'quality'):\n",
    "    correlation = df.corr()\n",
    "    amount_attr = len(columns)\n",
    "    \n",
    "    avg_ca = np.mean([\n",
    "        abs(correlation[column][class_attr])\n",
    "        for column in columns\n",
    "    ])\n",
    "    \n",
    "    if amount_attr == 1: \n",
    "        avg_aa = 1\n",
    "    else:\n",
    "        avg_aa = np.mean([\n",
    "            abs(correlation[k][j])\n",
    "            for k in columns\n",
    "            for j in columns\n",
    "            if k != j\n",
    "        ])\n",
    "    return (amount_attr*avg_ca)/np.sqrt(amount_attr+amount_attr*(amount_attr-1)*avg_aa)\n",
    "print(metric_CFS(['alcohol'], df_numeric_class))"
   ]
  },
  {
   "cell_type": "code",
   "execution_count": 75,
   "metadata": {},
   "outputs": [],
   "source": [
    "def metric_MIFS(columns, df, class_attr  = 'quality', beta = 1.):\n",
    "pass"
   ]
  },
  {
   "source": [
    "En el caso de la métrica CFS, transformamos los datos para convertir al atributo clase en uno nominal"
   ],
   "cell_type": "markdown",
   "metadata": {}
  },
  {
   "cell_type": "code",
   "execution_count": 64,
   "metadata": {},
   "outputs": [
    {
     "output_type": "stream",
     "name": "stdout",
     "text": [
      "<class 'pandas.core.frame.DataFrame'>\nRangeIndex: 4898 entries, 0 to 4897\nData columns (total 12 columns):\n #   Column                Non-Null Count  Dtype  \n---  ------                --------------  -----  \n 0   fixed acidity         4898 non-null   float64\n 1   volatile acidity      4898 non-null   float64\n 2   citric acid           4898 non-null   float64\n 3   residual sugar        4898 non-null   float64\n 4   chlorides             4898 non-null   float64\n 5   free sulfur dioxide   4898 non-null   float64\n 6   total sulfur dioxide  4898 non-null   float64\n 7   density               4898 non-null   float64\n 8   pH                    4898 non-null   float64\n 9   sulphates             4898 non-null   float64\n 10  alcohol               4898 non-null   float64\n 11  quality               4898 non-null   object \ndtypes: float64(11), object(1)\nmemory usage: 459.3+ KB\n"
     ]
    }
   ],
   "source": [
    "df_nominal_class = df_numeric_class.copy()\n",
    "df_nominal_class['quality'] = df_numeric_class['quality'].astype(str)\n",
    "df_nominal_class.info()"
   ]
  },
  {
   "source": [
    "La clase nodo almacenará los estados de las combinaciones posibles  junto a su valor de correlación"
   ],
   "cell_type": "markdown",
   "metadata": {}
  },
  {
   "cell_type": "code",
   "execution_count": 65,
   "metadata": {},
   "outputs": [],
   "source": [
    "class Node:\n",
    "    def __init__(self, columns: list, value: float):\n",
    "        self.columns = columns\n",
    "        self.value   = value\n",
    "    \n",
    "    def __eq__(self, other):\n",
    "        return self.value == other.value\n",
    "\n",
    "    def __ne__(self, other):\n",
    "        return self.value != other.value\n",
    "\n",
    "    def __lt__(self, other):\n",
    "        return self.value < other.value\n",
    "\n",
    "    def __le__(self, other):\n",
    "        return self.value <= other.value\n",
    "\n",
    "    def __gt__(self, other):\n",
    "        return self.value > other.value\n",
    "\n",
    "    def __ge__(self, other):\n",
    "        return self.value >= other.value\n",
    "    \n",
    "    def __repr__(self):\n",
    "        return \"%s = %s\" % (self.columns, self.value)"
   ]
  },
  {
   "source": [
    "El método *get_children* se encarga de a partir de un estado crear los N estados siguientes siguiendo esa rama del árbol de búsqueda, eligiendo las combinaciones faltantes. Se escoge como valor que guía la búsqueda la media de todas las correlaciones."
   ],
   "cell_type": "markdown",
   "metadata": {}
  },
  {
   "cell_type": "code",
   "execution_count": 69,
   "metadata": {},
   "outputs": [],
   "source": [
    "def get_children(father: Node, columns: list, metric: str, df: pd.DataFrame) -> list:\n",
    "    if not father:\n",
    "        return [\n",
    "            Node([column],  metric([column], df)) for column in columns\n",
    "        ]\n",
    "\n",
    "    children = []\n",
    "    for column in columns:\n",
    "        if column not in father.columns:\n",
    "            copyFatherColumns = father.columns.copy()\n",
    "            copyFatherColumns.append(column)\n",
    "            children.append(\n",
    "                Node(copyFatherColumns,  metric(copyFatherColumns, df))\n",
    "            )\n",
    "            # np.mean(abs(metric(df.loc[:,copyFatherColumns], df.iloc[:,-1])))\n",
    "\n",
    "    return children"
   ]
  },
  {
   "source": [
    "*select_from_variables* se encarga de la exploración del árbol de estados mediante SFS y la métrica correspondiente."
   ],
   "cell_type": "markdown",
   "metadata": {}
  },
  {
   "cell_type": "code",
   "execution_count": 70,
   "metadata": {},
   "outputs": [],
   "source": [
    "def select_from_variables(df: pd.DataFrame, metric: classmethod, tree_deep: int = 4) -> pd.DataFrame:\n",
    "    columns = list(df.columns[:-1])\n",
    "    if len(columns) <= tree_deep:\n",
    "        raise RuntimeError(\"the deep of the search tree is higher than the number of columns\")\n",
    "\n",
    "    selection = None\n",
    "    for _ in range(tree_deep):\n",
    "        selection = max(get_children(selection, columns, metric, df))\n",
    "\n",
    "    return selection\n",
    "     "
   ]
  },
  {
   "source": [
    "Para comparar entre las métricas se varia el número de variables seleccionadas de 2 en 2 hasta 8."
   ],
   "cell_type": "markdown",
   "metadata": {}
  },
  {
   "source": [
    "## Busqueda mediante regresión mutua"
   ],
   "cell_type": "markdown",
   "metadata": {}
  },
  {
   "cell_type": "code",
   "execution_count": 71,
   "metadata": {},
   "outputs": [],
   "source": [
    "reportMIFS = {} \n",
    "for deep in range(2,10,2):\n",
    "    reportMIFS['Tree Deep %s' %deep] = select_from_variables(df_numeric_class, metric_CFS, tree_deep=deep)"
   ]
  },
  {
   "source": [
    "## Busqueda mediante clasificación mutua"
   ],
   "cell_type": "markdown",
   "metadata": {}
  },
  {
   "cell_type": "code",
   "execution_count": 73,
   "metadata": {},
   "outputs": [],
   "source": [
    "reportCFS = {} \n",
    "for deep in range(2,10,2):\n",
    "    reportCFS['Tree Deep %s' %deep] = select_from_variables(df_numeric_class, metric_CFS, tree_deep=deep)"
   ]
  },
  {
   "source": [
    "# Conclusiones"
   ],
   "cell_type": "markdown",
   "metadata": {}
  },
  {
   "cell_type": "code",
   "execution_count": 74,
   "metadata": {},
   "outputs": [
    {
     "output_type": "stream",
     "name": "stdout",
     "text": [
      "############# Tree Deep 2 #############\nMIFS metric:  ['alcohol', 'volatile acidity']\nCFS metric:  ['alcohol', 'volatile acidity']\n\n\n############# Tree Deep 4 #############\nMIFS metric:  ['alcohol', 'chlorides', 'density', 'volatile acidity']\nCFS metric:  ['alcohol', 'chlorides', 'density', 'volatile acidity']\n\n\n############# Tree Deep 6 #############\nMIFS metric:  ['alcohol', 'chlorides', 'density', 'fixed acidity', 'sulphates', 'volatile acidity']\nCFS metric:  ['alcohol', 'chlorides', 'density', 'fixed acidity', 'sulphates', 'volatile acidity']\n\n\n############# Tree Deep 8 #############\nMIFS metric:  ['alcohol', 'chlorides', 'density', 'fixed acidity', 'pH', 'sulphates', 'total sulfur dioxide', 'volatile acidity']\nCFS metric:  ['alcohol', 'chlorides', 'density', 'fixed acidity', 'pH', 'sulphates', 'total sulfur dioxide', 'volatile acidity']\n\n\n"
     ]
    }
   ],
   "source": [
    "for key, value in reportMIFS.items():\n",
    "    print(\"#############\",key,\"#############\")\n",
    "    print(\"MIFS metric: \", sorted(value.columns))\n",
    "    print(\"CFS metric: \", sorted(reportCFS[key].columns))\n",
    "    print(\"\\n\")"
   ]
  },
  {
   "source": [
    "En suma, se puede apreciar que para un número pequeño de atributos las dos métricas bajo un mismo método escogen los mismo atributos que son los que mayor correlación tienen con la variable clase, sin embargo cuando aumentamos el número de los mismo observamos que escogen atributos distintos. Mediante la métrica del MIFS se esconge las columnas de **ph** o **chlorides**, en cambio para la CFS se prefiere escoger las columnas de **citric acid** o **sulphates**. Solo faltaría probar los diferentes conjuntos en un modelo para comparar su calidad con respecto al problema."
   ],
   "cell_type": "markdown",
   "metadata": {}
  }
 ]
}